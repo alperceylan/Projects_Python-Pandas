{
 "cells": [
  {
   "cell_type": "markdown",
   "metadata": {},
   "source": [
    "# **Time series analysis** on Istanbul mean temperature data set\n",
    "# (İstanbul ortalama sıcaklık veri setinde **zaman serisi analizi**)"
   ]
  },
  {
   "cell_type": "markdown",
   "metadata": {},
   "source": [
    "**+--- NOTE ---+**\n",
    "<br> **datetime** fonksiyonunun **Keyword**'lerini, GOOGLE'ye **\"pandas datetime ofsets\"** veya **\"pandas time series / date functionality\"** yazarak veya aşağıdaki linkten bulabiliriz **;**\n",
    "<br> https://pandas.pydata.org/docs/user_guide/timeseries.html\n",
    "<br> Bu linke tıklayıp biraz aşağılara inerek TÜM kullanım şekillerini bulabiliriz..."
   ]
  },
  {
   "cell_type": "markdown",
   "metadata": {},
   "source": [
    "Veri Setini indirdiğimiz web sitesi **:**\n",
    "<br> https://www.ecad.eu/\n",
    "<br> Veri Setimizi açarak, veriyi nasıl okumamız gerektiği ile ilgili bilgileri, ilk satırlarda öğrenebiliriz..."
   ]
  },
  {
   "cell_type": "markdown",
   "metadata": {},
   "source": [
    "+ **Veri Setimizdeki Kolonlar :**\n",
    "+ + **DATE ;**\n",
    "+ + + Yıl **-** Ay **-** Gün\n",
    "+ + **TG ;**\n",
    "+ + + Kolonda yazan değerleri, **'0.1'** ile çarparak gerçek hava sıcaklığı derecesine ulaşıyoruz.\n",
    "+ + **Q.TG ;**\n",
    "+ + + **'0' =** Sağlam veri demek.\n",
    "+ + + **'1' =** Şüpheli veri demek.\n",
    "+ + + **'9' =** Eksik veri demek."
   ]
  },
  {
   "cell_type": "code",
   "execution_count": 1,
   "metadata": {},
   "outputs": [],
   "source": [
    "# import pandas library as pd :\n",
    "\n",
    "import pandas as pd"
   ]
  },
  {
   "cell_type": "markdown",
   "metadata": {},
   "source": [
    "+ First,read **\"istanbul_temp.txt\"** file into a **csv** file **:**\n",
    "<br> İlk önce **\"istanbul_temp.txt\"** dosyasını bir **csv** dosyasına okuyun **:**\n",
    "+ Normalde Pandas, Veri Setindeki ilk satırı kolon satırı olarak görür... Ancak Veri Setimizin ilk satırlarında açıklamalar yazdığı için, bizim bu durumu iptal edip yerine yeniden kolon isimlerini belirlememiz lazım. Yani başlığı iptal etmek için **\"header=None\"** komutunu, yeni başlık eklemek için de **\"names=\"** komutunu kullanmamız lazım **:**\n",
    "+ Veri Setimizin İlk **22** satırında açıklama olduğu için **,** bu satırları atlamak istiyoruz... Bunun için de **\"(skiprows=___)\"** komutunu kullanacağız **:**"
   ]
  },
  {
   "cell_type": "code",
   "execution_count": null,
   "metadata": {},
   "outputs": [],
   "source": [
    "#read data into a data frame :\n",
    "\n",
    "data=pd.read_csv(\"istanbul_temp.txt\", skiprows=22, header=None, names=[\"STAID\",\"SOUID\",\"DATE\",\"TG\",\"Q_TG\"])"
   ]
  },
  {
   "cell_type": "markdown",
   "metadata": {},
   "source": [
    "+ Veya; Veri Setini incelediysek, ilk **22** satırı değil de ilk **21** satırı atlarsak zaten direkt başlığın yazılı olduğu satırı otomatik olarak pandas okuyacaktı **:**"
   ]
  },
  {
   "cell_type": "code",
   "execution_count": 2,
   "metadata": {},
   "outputs": [],
   "source": [
    "#   OR\n",
    "\n",
    "data=pd.read_csv(\"istanbul_temp.txt\", skiprows=21)"
   ]
  },
  {
   "cell_type": "code",
   "execution_count": 3,
   "metadata": {},
   "outputs": [
    {
     "data": {
      "text/plain": [
       "Index([' STAID', ' SOUID', '    DATE', '   TG', ' Q_TG'], dtype='object')"
      ]
     },
     "execution_count": 3,
     "metadata": {},
     "output_type": "execute_result"
    }
   ],
   "source": [
    "data.columns"
   ]
  },
  {
   "cell_type": "markdown",
   "metadata": {},
   "source": [
    "+ Yukarıda gördüğümüz gibi Veri Setindeki başlığı kullanarak okuma işlemi yaparsak, kolon isimlerinde bir problem ile karşılaşıyoruz. Kolon isimlerinin başında gereksiz boşluklar görüyoruz ve bu analiz işlemi yaparken bizim işimizi zorlaştırıyor... Bunu çok kolay bir şekilde düzeltebiliriz. Boşluk karakterlerini kaldırarak bu sorunu çözebiliriz **:**"
   ]
  },
  {
   "cell_type": "code",
   "execution_count": 4,
   "metadata": {},
   "outputs": [
    {
     "data": {
      "text/plain": [
       "Index(['STAID', 'SOUID', 'DATE', 'TG', 'Q_TG'], dtype='object')"
      ]
     },
     "execution_count": 4,
     "metadata": {},
     "output_type": "execute_result"
    }
   ],
   "source": [
    "data.columns = data.columns.str.strip();\n",
    "data.columns"
   ]
  },
  {
   "cell_type": "markdown",
   "metadata": {},
   "source": [
    "Yukarıda gördüğümüz gibi, bunu çok kolay bir şekilde düzeltebildik..."
   ]
  },
  {
   "cell_type": "markdown",
   "metadata": {},
   "source": [
    "+ Check top of the dataframe **:**\n",
    "<br> Neler olduğunu görmek için, veri çerçevesinin EN ÜSTÜNÜ ( .head ) kontrol et **:**"
   ]
  },
  {
   "cell_type": "code",
   "execution_count": 5,
   "metadata": {},
   "outputs": [
    {
     "data": {
      "text/html": [
       "<div>\n",
       "<style scoped>\n",
       "    .dataframe tbody tr th:only-of-type {\n",
       "        vertical-align: middle;\n",
       "    }\n",
       "\n",
       "    .dataframe tbody tr th {\n",
       "        vertical-align: top;\n",
       "    }\n",
       "\n",
       "    .dataframe thead th {\n",
       "        text-align: right;\n",
       "    }\n",
       "</style>\n",
       "<table border=\"1\" class=\"dataframe\">\n",
       "  <thead>\n",
       "    <tr style=\"text-align: right;\">\n",
       "      <th></th>\n",
       "      <th>STAID</th>\n",
       "      <th>SOUID</th>\n",
       "      <th>DATE</th>\n",
       "      <th>TG</th>\n",
       "      <th>Q_TG</th>\n",
       "    </tr>\n",
       "  </thead>\n",
       "  <tbody>\n",
       "    <tr>\n",
       "      <th>0</th>\n",
       "      <td>248</td>\n",
       "      <td>101231</td>\n",
       "      <td>19290101</td>\n",
       "      <td>126</td>\n",
       "      <td>0</td>\n",
       "    </tr>\n",
       "    <tr>\n",
       "      <th>1</th>\n",
       "      <td>248</td>\n",
       "      <td>101231</td>\n",
       "      <td>19290102</td>\n",
       "      <td>133</td>\n",
       "      <td>0</td>\n",
       "    </tr>\n",
       "    <tr>\n",
       "      <th>2</th>\n",
       "      <td>248</td>\n",
       "      <td>101231</td>\n",
       "      <td>19290103</td>\n",
       "      <td>131</td>\n",
       "      <td>0</td>\n",
       "    </tr>\n",
       "    <tr>\n",
       "      <th>3</th>\n",
       "      <td>248</td>\n",
       "      <td>101231</td>\n",
       "      <td>19290104</td>\n",
       "      <td>118</td>\n",
       "      <td>0</td>\n",
       "    </tr>\n",
       "    <tr>\n",
       "      <th>4</th>\n",
       "      <td>248</td>\n",
       "      <td>101231</td>\n",
       "      <td>19290105</td>\n",
       "      <td>106</td>\n",
       "      <td>0</td>\n",
       "    </tr>\n",
       "  </tbody>\n",
       "</table>\n",
       "</div>"
      ],
      "text/plain": [
       "   STAID   SOUID      DATE   TG  Q_TG\n",
       "0    248  101231  19290101  126     0\n",
       "1    248  101231  19290102  133     0\n",
       "2    248  101231  19290103  131     0\n",
       "3    248  101231  19290104  118     0\n",
       "4    248  101231  19290105  106     0"
      ]
     },
     "execution_count": 5,
     "metadata": {},
     "output_type": "execute_result"
    }
   ],
   "source": [
    "data.head()"
   ]
  },
  {
   "cell_type": "markdown",
   "metadata": {},
   "source": [
    "+ Check bottom of the dataframe to see what is happening **:**\n",
    "<br> Neler olduğunu görmek için, veri çerçevesinin EN ALTINI ( .tail ) kontrol edin **:**"
   ]
  },
  {
   "cell_type": "code",
   "execution_count": 6,
   "metadata": {},
   "outputs": [
    {
     "data": {
      "text/html": [
       "<div>\n",
       "<style scoped>\n",
       "    .dataframe tbody tr th:only-of-type {\n",
       "        vertical-align: middle;\n",
       "    }\n",
       "\n",
       "    .dataframe tbody tr th {\n",
       "        vertical-align: top;\n",
       "    }\n",
       "\n",
       "    .dataframe thead th {\n",
       "        text-align: right;\n",
       "    }\n",
       "</style>\n",
       "<table border=\"1\" class=\"dataframe\">\n",
       "  <thead>\n",
       "    <tr style=\"text-align: right;\">\n",
       "      <th></th>\n",
       "      <th>STAID</th>\n",
       "      <th>SOUID</th>\n",
       "      <th>DATE</th>\n",
       "      <th>TG</th>\n",
       "      <th>Q_TG</th>\n",
       "    </tr>\n",
       "  </thead>\n",
       "  <tbody>\n",
       "    <tr>\n",
       "      <th>32410</th>\n",
       "      <td>248</td>\n",
       "      <td>101231</td>\n",
       "      <td>20170926</td>\n",
       "      <td>-9999</td>\n",
       "      <td>9</td>\n",
       "    </tr>\n",
       "    <tr>\n",
       "      <th>32411</th>\n",
       "      <td>248</td>\n",
       "      <td>101231</td>\n",
       "      <td>20170927</td>\n",
       "      <td>-9999</td>\n",
       "      <td>9</td>\n",
       "    </tr>\n",
       "    <tr>\n",
       "      <th>32412</th>\n",
       "      <td>248</td>\n",
       "      <td>101231</td>\n",
       "      <td>20170928</td>\n",
       "      <td>-9999</td>\n",
       "      <td>9</td>\n",
       "    </tr>\n",
       "    <tr>\n",
       "      <th>32413</th>\n",
       "      <td>248</td>\n",
       "      <td>101231</td>\n",
       "      <td>20170929</td>\n",
       "      <td>-9999</td>\n",
       "      <td>9</td>\n",
       "    </tr>\n",
       "    <tr>\n",
       "      <th>32414</th>\n",
       "      <td>248</td>\n",
       "      <td>101231</td>\n",
       "      <td>20170930</td>\n",
       "      <td>-9999</td>\n",
       "      <td>9</td>\n",
       "    </tr>\n",
       "  </tbody>\n",
       "</table>\n",
       "</div>"
      ],
      "text/plain": [
       "       STAID   SOUID      DATE    TG  Q_TG\n",
       "32410    248  101231  20170926 -9999     9\n",
       "32411    248  101231  20170927 -9999     9\n",
       "32412    248  101231  20170928 -9999     9\n",
       "32413    248  101231  20170929 -9999     9\n",
       "32414    248  101231  20170930 -9999     9"
      ]
     },
     "execution_count": 6,
     "metadata": {},
     "output_type": "execute_result"
    }
   ],
   "source": [
    "data.tail()"
   ]
  },
  {
   "cell_type": "markdown",
   "metadata": {},
   "source": [
    "Yukarıda gördüğümüz gibi, son 5 satırdaki veriler hep **Eksik Veri...**"
   ]
  },
  {
   "cell_type": "markdown",
   "metadata": {},
   "source": [
    "+ Note that in the file it is written as “9” in Q_TG columns shows the missing data.\n",
    "<br> 30-34 Q_TG : Quality code for RR (0='valid'; 1='suspect'; 9='missing')\n",
    "<br> Drop the rows that have 9’s in the Q_TG column.\n",
    "<br> data=data[data[\"Q_TG\"]!=9] Generates a new dataframe where rows that have “9” omitted.\n",
    "+ **Q_TG** kolonunun değeri **9** olan, yani eksik veri olan satırları veri setimizden silelim... Yani tablomuzun **Q_TG** kolonunda **9** değeri olmayan satırları seçelim ve veri setimize onları atayalım **:**"
   ]
  },
  {
   "cell_type": "code",
   "execution_count": 7,
   "metadata": {},
   "outputs": [],
   "source": [
    "data = data[data.Q_TG != 9];"
   ]
  },
  {
   "cell_type": "code",
   "execution_count": 8,
   "metadata": {},
   "outputs": [
    {
     "data": {
      "text/html": [
       "<div>\n",
       "<style scoped>\n",
       "    .dataframe tbody tr th:only-of-type {\n",
       "        vertical-align: middle;\n",
       "    }\n",
       "\n",
       "    .dataframe tbody tr th {\n",
       "        vertical-align: top;\n",
       "    }\n",
       "\n",
       "    .dataframe thead th {\n",
       "        text-align: right;\n",
       "    }\n",
       "</style>\n",
       "<table border=\"1\" class=\"dataframe\">\n",
       "  <thead>\n",
       "    <tr style=\"text-align: right;\">\n",
       "      <th></th>\n",
       "      <th>STAID</th>\n",
       "      <th>SOUID</th>\n",
       "      <th>DATE</th>\n",
       "      <th>TG</th>\n",
       "      <th>Q_TG</th>\n",
       "    </tr>\n",
       "  </thead>\n",
       "  <tbody>\n",
       "    <tr>\n",
       "      <th>27419</th>\n",
       "      <td>248</td>\n",
       "      <td>101231</td>\n",
       "      <td>20040127</td>\n",
       "      <td>36</td>\n",
       "      <td>0</td>\n",
       "    </tr>\n",
       "    <tr>\n",
       "      <th>27420</th>\n",
       "      <td>248</td>\n",
       "      <td>101231</td>\n",
       "      <td>20040128</td>\n",
       "      <td>85</td>\n",
       "      <td>0</td>\n",
       "    </tr>\n",
       "    <tr>\n",
       "      <th>27421</th>\n",
       "      <td>248</td>\n",
       "      <td>101231</td>\n",
       "      <td>20040129</td>\n",
       "      <td>128</td>\n",
       "      <td>0</td>\n",
       "    </tr>\n",
       "    <tr>\n",
       "      <th>27422</th>\n",
       "      <td>248</td>\n",
       "      <td>101231</td>\n",
       "      <td>20040130</td>\n",
       "      <td>78</td>\n",
       "      <td>0</td>\n",
       "    </tr>\n",
       "    <tr>\n",
       "      <th>27423</th>\n",
       "      <td>248</td>\n",
       "      <td>101231</td>\n",
       "      <td>20040131</td>\n",
       "      <td>46</td>\n",
       "      <td>0</td>\n",
       "    </tr>\n",
       "  </tbody>\n",
       "</table>\n",
       "</div>"
      ],
      "text/plain": [
       "       STAID   SOUID      DATE   TG  Q_TG\n",
       "27419    248  101231  20040127   36     0\n",
       "27420    248  101231  20040128   85     0\n",
       "27421    248  101231  20040129  128     0\n",
       "27422    248  101231  20040130   78     0\n",
       "27423    248  101231  20040131   46     0"
      ]
     },
     "execution_count": 8,
     "metadata": {},
     "output_type": "execute_result"
    }
   ],
   "source": [
    "#   Now check the bottom of the file :\n",
    "#   Şimdi dosyanın en altını kontrol edin :\n",
    "\n",
    "data.tail()"
   ]
  },
  {
   "cell_type": "markdown",
   "metadata": {},
   "source": [
    "+ To make sure check unique elements on Q_TG column **:**\n",
    "<br> Q_TG sütunundaki benzersiz öğeleri kontrol ettiğinizden emin olmak için **:**\n",
    "<br> Benzersiz (unique) verilere de bakalım ve tam olarak emin olalım **:**"
   ]
  },
  {
   "cell_type": "code",
   "execution_count": 10,
   "metadata": {},
   "outputs": [
    {
     "data": {
      "text/plain": [
       "array([0, 1], dtype=int64)"
      ]
     },
     "execution_count": 10,
     "metadata": {},
     "output_type": "execute_result"
    }
   ],
   "source": [
    "data.Q_TG.unique()"
   ]
  },
  {
   "cell_type": "code",
   "execution_count": 11,
   "metadata": {},
   "outputs": [
    {
     "data": {
      "text/plain": [
       "2"
      ]
     },
     "execution_count": 11,
     "metadata": {},
     "output_type": "execute_result"
    }
   ],
   "source": [
    "data.Q_TG.nunique()"
   ]
  },
  {
   "cell_type": "markdown",
   "metadata": {},
   "source": [
    "Yukarıda gördüğümüz gibi, **Q_TG** kolonunda sadece 2 farklı veri var ve bu veriler **\"0\" ve \"1\".**"
   ]
  },
  {
   "cell_type": "markdown",
   "metadata": {},
   "source": [
    "+ Şimdi de, kaç tane veri **\"0\"** yani sağlam, kaç tane veri **\"1\"** yani şüpheli onu görelim **:**"
   ]
  },
  {
   "cell_type": "code",
   "execution_count": 12,
   "metadata": {},
   "outputs": [
    {
     "data": {
      "text/plain": [
       "0    27416\n",
       "1        8\n",
       "Name: Q_TG, dtype: int64"
      ]
     },
     "execution_count": 12,
     "metadata": {},
     "output_type": "execute_result"
    }
   ],
   "source": [
    "data.Q_TG.value_counts()"
   ]
  },
  {
   "cell_type": "code",
   "execution_count": 13,
   "metadata": {},
   "outputs": [
    {
     "data": {
      "text/plain": [
       "Q_TG\n",
       "0    27416\n",
       "1        8\n",
       "dtype: int64"
      ]
     },
     "execution_count": 13,
     "metadata": {},
     "output_type": "execute_result"
    }
   ],
   "source": [
    "#   OR\n",
    "\n",
    "data.value_counts(\"Q_TG\")"
   ]
  },
  {
   "cell_type": "markdown",
   "metadata": {},
   "source": [
    "Yukarıda gördüğümüz gibi, tüm veri setimizde sadece 8 tane veri **\"1\"**, yani şüpheli veri."
   ]
  },
  {
   "cell_type": "markdown",
   "metadata": {},
   "source": [
    "+ Şimdi de **TG** kolonundaki değerleri **0.1** ile çarparak, gerçek sıcaklık değerlerine çevirelim **:**"
   ]
  },
  {
   "cell_type": "code",
   "execution_count": 9,
   "metadata": {},
   "outputs": [
    {
     "data": {
      "text/html": [
       "<div>\n",
       "<style scoped>\n",
       "    .dataframe tbody tr th:only-of-type {\n",
       "        vertical-align: middle;\n",
       "    }\n",
       "\n",
       "    .dataframe tbody tr th {\n",
       "        vertical-align: top;\n",
       "    }\n",
       "\n",
       "    .dataframe thead th {\n",
       "        text-align: right;\n",
       "    }\n",
       "</style>\n",
       "<table border=\"1\" class=\"dataframe\">\n",
       "  <thead>\n",
       "    <tr style=\"text-align: right;\">\n",
       "      <th></th>\n",
       "      <th>STAID</th>\n",
       "      <th>SOUID</th>\n",
       "      <th>DATE</th>\n",
       "      <th>TG</th>\n",
       "      <th>Q_TG</th>\n",
       "    </tr>\n",
       "  </thead>\n",
       "  <tbody>\n",
       "    <tr>\n",
       "      <th>0</th>\n",
       "      <td>248</td>\n",
       "      <td>101231</td>\n",
       "      <td>19290101</td>\n",
       "      <td>12.6</td>\n",
       "      <td>0</td>\n",
       "    </tr>\n",
       "    <tr>\n",
       "      <th>1</th>\n",
       "      <td>248</td>\n",
       "      <td>101231</td>\n",
       "      <td>19290102</td>\n",
       "      <td>13.3</td>\n",
       "      <td>0</td>\n",
       "    </tr>\n",
       "    <tr>\n",
       "      <th>2</th>\n",
       "      <td>248</td>\n",
       "      <td>101231</td>\n",
       "      <td>19290103</td>\n",
       "      <td>13.1</td>\n",
       "      <td>0</td>\n",
       "    </tr>\n",
       "    <tr>\n",
       "      <th>3</th>\n",
       "      <td>248</td>\n",
       "      <td>101231</td>\n",
       "      <td>19290104</td>\n",
       "      <td>11.8</td>\n",
       "      <td>0</td>\n",
       "    </tr>\n",
       "    <tr>\n",
       "      <th>4</th>\n",
       "      <td>248</td>\n",
       "      <td>101231</td>\n",
       "      <td>19290105</td>\n",
       "      <td>10.6</td>\n",
       "      <td>0</td>\n",
       "    </tr>\n",
       "  </tbody>\n",
       "</table>\n",
       "</div>"
      ],
      "text/plain": [
       "   STAID   SOUID      DATE    TG  Q_TG\n",
       "0    248  101231  19290101  12.6     0\n",
       "1    248  101231  19290102  13.3     0\n",
       "2    248  101231  19290103  13.1     0\n",
       "3    248  101231  19290104  11.8     0\n",
       "4    248  101231  19290105  10.6     0"
      ]
     },
     "execution_count": 9,
     "metadata": {},
     "output_type": "execute_result"
    }
   ],
   "source": [
    "data.TG = data.TG * 0.1;\n",
    "data.head()"
   ]
  },
  {
   "cell_type": "markdown",
   "metadata": {},
   "source": [
    "+ Şimdi asıl ilgilendiğimiz bölüme gelelim...\n",
    "<br> Öncelikle verileri nasıl tuttuğumuza bakalım **:**"
   ]
  },
  {
   "cell_type": "code",
   "execution_count": 92,
   "metadata": {},
   "outputs": [
    {
     "name": "stdout",
     "output_type": "stream",
     "text": [
      "<class 'pandas.core.frame.DataFrame'>\n",
      "Int64Index: 27424 entries, 0 to 27423\n",
      "Data columns (total 5 columns):\n",
      " #   Column  Non-Null Count  Dtype  \n",
      "---  ------  --------------  -----  \n",
      " 0   STAID   27424 non-null  int64  \n",
      " 1   SOUID   27424 non-null  int64  \n",
      " 2   DATE    27424 non-null  int64  \n",
      " 3   TG      27424 non-null  float64\n",
      " 4   Q_TG    27424 non-null  int64  \n",
      "dtypes: float64(1), int64(4)\n",
      "memory usage: 1.3 MB\n"
     ]
    }
   ],
   "source": [
    "data.info()"
   ]
  },
  {
   "cell_type": "markdown",
   "metadata": {},
   "source": [
    "Yukarıda gördüğümüz gibi, mesela STAID kolonunda 27424 adet NaN OLMAYAN veri varmış ve tipi de **int64**'müş.\n",
    "+ DATE kolonunun da tipi **int64** imiş. Bizim bunu **\"datetime\"** hale çevirmemiz gerekiyor... Bunu en başta, daha Veri Setini okurken de yapabilirdik... Ama şu an bu şekilde yapmak istiyoruz **:**"
   ]
  },
  {
   "cell_type": "markdown",
   "metadata": {},
   "source": [
    "+ DATE column now is in string format we should change it into a datetime object format **:**\n",
    "<br> DATE sütunu **int64** biçiminde, bu sütunu **datetime** biçimine değiştirmeliyiz **:**\n",
    "<br> Use **pd.to_datetime()** function **:**"
   ]
  },
  {
   "cell_type": "code",
   "execution_count": 15,
   "metadata": {},
   "outputs": [
    {
     "data": {
      "text/plain": [
       "0    19290101\n",
       "1    19290102\n",
       "2    19290103\n",
       "3    19290104\n",
       "4    19290105\n",
       "Name: DATE, dtype: int64"
      ]
     },
     "execution_count": 15,
     "metadata": {},
     "output_type": "execute_result"
    }
   ],
   "source": [
    "data.DATE.head()"
   ]
  },
  {
   "cell_type": "code",
   "execution_count": 16,
   "metadata": {},
   "outputs": [],
   "source": [
    "data.DATE = pd.to_datetime(data.DATE)"
   ]
  },
  {
   "cell_type": "markdown",
   "metadata": {},
   "source": [
    "+ Check the top of DATE column **:**\n",
    "<br> DATE sütununun en üstünü kontrol edin **:**"
   ]
  },
  {
   "cell_type": "code",
   "execution_count": 17,
   "metadata": {},
   "outputs": [
    {
     "data": {
      "text/plain": [
       "0   1970-01-01 00:00:00.019290101\n",
       "1   1970-01-01 00:00:00.019290102\n",
       "2   1970-01-01 00:00:00.019290103\n",
       "3   1970-01-01 00:00:00.019290104\n",
       "4   1970-01-01 00:00:00.019290105\n",
       "Name: DATE, dtype: datetime64[ns]"
      ]
     },
     "execution_count": 17,
     "metadata": {},
     "output_type": "execute_result"
    }
   ],
   "source": [
    "data.DATE.head()"
   ]
  },
  {
   "cell_type": "markdown",
   "metadata": {},
   "source": [
    "Yukarıda gördüğümüz gibi, **datetime** hale dönüştürdük..."
   ]
  },
  {
   "cell_type": "markdown",
   "metadata": {},
   "source": [
    "**++++ CRITICAL NOTE ++++**\n",
    "<br> **ÖNEMLİ !**\n",
    "<br> **Tarih - Zaman** kodları yazarken bazen hata almayız ama bir şekilde sonuçlar garip çıkabilir... **String , Integer , float , vb.** olan değerleri **datetime** hale çevirdiğimizde hata almasak da **,** farklı şekillerde okunabildiği için garip sonuçlar alabiliriz... Bunu çözmek için de **, pd.to_datetime( )** fonksiyonuna gelip SHIFT + TAB tuşlarına bastığımızda **, (format=\"...\")** diye bir komut görürüz... Bu komutu yazarak işlem yaparsak daha garanti bir sonuç alırız **!**\n",
    "<br> **Formata da ;** Veri Setimizi açıp **, Tarih-Saatin** nasıl yazıldığına bakarak karar veririz... Aralardaki **noktalama işaretleri bile Format belirlemede** çok önemlidir **!... :**"
   ]
  },
  {
   "cell_type": "code",
   "execution_count": 10,
   "metadata": {},
   "outputs": [],
   "source": [
    "data.DATE = pd.to_datetime(data.DATE, format=\"%Y%m%d\")"
   ]
  },
  {
   "cell_type": "code",
   "execution_count": 11,
   "metadata": {},
   "outputs": [
    {
     "data": {
      "text/plain": [
       "0   1929-01-01\n",
       "1   1929-01-02\n",
       "2   1929-01-03\n",
       "3   1929-01-04\n",
       "4   1929-01-05\n",
       "Name: DATE, dtype: datetime64[ns]"
      ]
     },
     "execution_count": 11,
     "metadata": {},
     "output_type": "execute_result"
    }
   ],
   "source": [
    "data.DATE.head()"
   ]
  },
  {
   "cell_type": "markdown",
   "metadata": {},
   "source": [
    "Böyle yukarıdaki gibi yaparsak bir hata alma ihtimalimiz kalmıyor **!**\n",
    "<br> **+--- NOTE --->** Bu defa, saat-dakika-saniye...... ve devamının görünmemesinin sebebi de, formatta sadece Yıl-Ay-Gün görmek istediğimizi belirtmemizdendir...\n",
    "<br> **+--- NOTE --->** Yukarıda gördüğümüz, **'datetime64[ns]'** ifadesindeki **[ns]** de, **nanosaniye**'ye kadar çalışabilirsiniz demek... Yani **datetime,** nanosaniye cinsine kadar çalışmamıza izin veriyor..."
   ]
  },
  {
   "cell_type": "markdown",
   "metadata": {},
   "source": [
    "You see that data type is changed to **datetime64**.\n",
    "<br> Yukarıdaki OUT'da, veri türünün **datetime64** olarak değiştirildiğini görüyorsunuz."
   ]
  },
  {
   "cell_type": "markdown",
   "metadata": {},
   "source": [
    "+ Set the index of the dataframe as the **DATE** column **:**\n",
    "<br> For this use \"**dataframe.set_index( )**\" function **:**\n",
    "+ Veri çerçevesinin index'ini (dizinini), **DATE** sütunu olarak ayarlayın **:**\n",
    "<br> Yani index'imiz **Zaman Index**'i olsun... Yani index'imiz 0, 1, 2 değil de, zaman-tarih olsun...\n",
    "<br> Yani kolonda bulunan **DATE** kolonunu, **index**'e atamamız gerekiyor **:**\n",
    "<br> Bunun için \"**dataframe.set_index( )**\" fonksiyonunu kullanın **:**"
   ]
  },
  {
   "cell_type": "code",
   "execution_count": 12,
   "metadata": {},
   "outputs": [],
   "source": [
    "data.set_index(\"DATE\", inplace=True)"
   ]
  },
  {
   "cell_type": "markdown",
   "metadata": {},
   "source": [
    "+ Again check the top of dataframe **:**\n",
    "<br> Veri çerçevesinin en üstünü tekrar kontrol edin **:**"
   ]
  },
  {
   "cell_type": "code",
   "execution_count": 13,
   "metadata": {},
   "outputs": [
    {
     "data": {
      "text/html": [
       "<div>\n",
       "<style scoped>\n",
       "    .dataframe tbody tr th:only-of-type {\n",
       "        vertical-align: middle;\n",
       "    }\n",
       "\n",
       "    .dataframe tbody tr th {\n",
       "        vertical-align: top;\n",
       "    }\n",
       "\n",
       "    .dataframe thead th {\n",
       "        text-align: right;\n",
       "    }\n",
       "</style>\n",
       "<table border=\"1\" class=\"dataframe\">\n",
       "  <thead>\n",
       "    <tr style=\"text-align: right;\">\n",
       "      <th></th>\n",
       "      <th>STAID</th>\n",
       "      <th>SOUID</th>\n",
       "      <th>TG</th>\n",
       "      <th>Q_TG</th>\n",
       "    </tr>\n",
       "    <tr>\n",
       "      <th>DATE</th>\n",
       "      <th></th>\n",
       "      <th></th>\n",
       "      <th></th>\n",
       "      <th></th>\n",
       "    </tr>\n",
       "  </thead>\n",
       "  <tbody>\n",
       "    <tr>\n",
       "      <th>1929-01-01</th>\n",
       "      <td>248</td>\n",
       "      <td>101231</td>\n",
       "      <td>12.6</td>\n",
       "      <td>0</td>\n",
       "    </tr>\n",
       "    <tr>\n",
       "      <th>1929-01-02</th>\n",
       "      <td>248</td>\n",
       "      <td>101231</td>\n",
       "      <td>13.3</td>\n",
       "      <td>0</td>\n",
       "    </tr>\n",
       "    <tr>\n",
       "      <th>1929-01-03</th>\n",
       "      <td>248</td>\n",
       "      <td>101231</td>\n",
       "      <td>13.1</td>\n",
       "      <td>0</td>\n",
       "    </tr>\n",
       "    <tr>\n",
       "      <th>1929-01-04</th>\n",
       "      <td>248</td>\n",
       "      <td>101231</td>\n",
       "      <td>11.8</td>\n",
       "      <td>0</td>\n",
       "    </tr>\n",
       "    <tr>\n",
       "      <th>1929-01-05</th>\n",
       "      <td>248</td>\n",
       "      <td>101231</td>\n",
       "      <td>10.6</td>\n",
       "      <td>0</td>\n",
       "    </tr>\n",
       "  </tbody>\n",
       "</table>\n",
       "</div>"
      ],
      "text/plain": [
       "            STAID   SOUID    TG  Q_TG\n",
       "DATE                                 \n",
       "1929-01-01    248  101231  12.6     0\n",
       "1929-01-02    248  101231  13.3     0\n",
       "1929-01-03    248  101231  13.1     0\n",
       "1929-01-04    248  101231  11.8     0\n",
       "1929-01-05    248  101231  10.6     0"
      ]
     },
     "execution_count": 13,
     "metadata": {},
     "output_type": "execute_result"
    }
   ],
   "source": [
    "data.head()"
   ]
  },
  {
   "cell_type": "markdown",
   "metadata": {},
   "source": [
    "+ **Yaptığımız işlemler sırası ile:**\n",
    "+ + Öncelikle Veri Setimize uygun bir şekilde **csv** dosyasına **okuyoruz**,\n",
    "+ + Sonra oluşturduğumuz tablonun başlıklarını inceleyip sorun varsa düzeltiyoruz,\n",
    "+ + Sonra güvenilmez ve eksik verileri, veri setimizden uzaklaştırıyoruz,\n",
    "+ + Sonra kolonlarımızda düzeltilmesi gereken yerler varsa düzeltiyoruz,\n",
    "+ + Daha sonra; String, Integer, Float vb. tipte olan tarih verilerini **datetime** tipine çeviriyoruz,\n",
    "+ + Ve daha sonra da bu **datetime** tipine çevirdiğimiz tarih kolonunu, **index**'e atıyoruz."
   ]
  },
  {
   "cell_type": "markdown",
   "metadata": {},
   "source": [
    "Yukarıdaki işlemleri tamamladıktan sonra artık analize hazır hale geliyoruz..."
   ]
  },
  {
   "cell_type": "markdown",
   "metadata": {},
   "source": [
    "## Resampling Examples (Resample Örnekleri)"
   ]
  },
  {
   "cell_type": "markdown",
   "metadata": {},
   "source": [
    "+ We have daily mean temperatures, calculate the yearly average temperatures **:**\n",
    "<br> Use **dataframe.resample( )** function for this create a new dataframe \"**data_yearly**\" **:**\n",
    "+ İstanbul'un günlük ortalama sıcaklıklarına sahibiz... **Yıllık ortalama** sıcaklıkları hesaplayın **:**\n",
    "<br> Bunun için **dataframe.resample( )** fonksiyonunu kullanın ve yeni bir **\"data_yearly\"** veri çerçevesi oluşturun **:**"
   ]
  },
  {
   "cell_type": "code",
   "execution_count": 34,
   "metadata": {},
   "outputs": [
    {
     "data": {
      "text/html": [
       "<div>\n",
       "<style scoped>\n",
       "    .dataframe tbody tr th:only-of-type {\n",
       "        vertical-align: middle;\n",
       "    }\n",
       "\n",
       "    .dataframe tbody tr th {\n",
       "        vertical-align: top;\n",
       "    }\n",
       "\n",
       "    .dataframe thead th {\n",
       "        text-align: right;\n",
       "    }\n",
       "</style>\n",
       "<table border=\"1\" class=\"dataframe\">\n",
       "  <thead>\n",
       "    <tr style=\"text-align: right;\">\n",
       "      <th></th>\n",
       "      <th>STAID</th>\n",
       "      <th>SOUID</th>\n",
       "      <th>TG</th>\n",
       "      <th>Q_TG</th>\n",
       "    </tr>\n",
       "    <tr>\n",
       "      <th>DATE</th>\n",
       "      <th></th>\n",
       "      <th></th>\n",
       "      <th></th>\n",
       "      <th></th>\n",
       "    </tr>\n",
       "  </thead>\n",
       "  <tbody>\n",
       "    <tr>\n",
       "      <th>1929-01-01</th>\n",
       "      <td>248</td>\n",
       "      <td>101231</td>\n",
       "      <td>12.6</td>\n",
       "      <td>0</td>\n",
       "    </tr>\n",
       "    <tr>\n",
       "      <th>1929-01-02</th>\n",
       "      <td>248</td>\n",
       "      <td>101231</td>\n",
       "      <td>13.3</td>\n",
       "      <td>0</td>\n",
       "    </tr>\n",
       "    <tr>\n",
       "      <th>1929-01-03</th>\n",
       "      <td>248</td>\n",
       "      <td>101231</td>\n",
       "      <td>13.1</td>\n",
       "      <td>0</td>\n",
       "    </tr>\n",
       "    <tr>\n",
       "      <th>1929-01-04</th>\n",
       "      <td>248</td>\n",
       "      <td>101231</td>\n",
       "      <td>11.8</td>\n",
       "      <td>0</td>\n",
       "    </tr>\n",
       "    <tr>\n",
       "      <th>1929-01-05</th>\n",
       "      <td>248</td>\n",
       "      <td>101231</td>\n",
       "      <td>10.6</td>\n",
       "      <td>0</td>\n",
       "    </tr>\n",
       "  </tbody>\n",
       "</table>\n",
       "</div>"
      ],
      "text/plain": [
       "            STAID   SOUID    TG  Q_TG\n",
       "DATE                                 \n",
       "1929-01-01    248  101231  12.6     0\n",
       "1929-01-02    248  101231  13.3     0\n",
       "1929-01-03    248  101231  13.1     0\n",
       "1929-01-04    248  101231  11.8     0\n",
       "1929-01-05    248  101231  10.6     0"
      ]
     },
     "execution_count": 34,
     "metadata": {},
     "output_type": "execute_result"
    }
   ],
   "source": [
    "data.head()"
   ]
  },
  {
   "cell_type": "markdown",
   "metadata": {},
   "source": [
    "**+--- NOTE ---> Yıllık** olarak hesaplamak için kullanılan frekans komutu **=** **'A'** veya **'AS'**'dir **!**"
   ]
  },
  {
   "cell_type": "code",
   "execution_count": 14,
   "metadata": {},
   "outputs": [
    {
     "data": {
      "text/html": [
       "<div>\n",
       "<style scoped>\n",
       "    .dataframe tbody tr th:only-of-type {\n",
       "        vertical-align: middle;\n",
       "    }\n",
       "\n",
       "    .dataframe tbody tr th {\n",
       "        vertical-align: top;\n",
       "    }\n",
       "\n",
       "    .dataframe thead th {\n",
       "        text-align: right;\n",
       "    }\n",
       "</style>\n",
       "<table border=\"1\" class=\"dataframe\">\n",
       "  <thead>\n",
       "    <tr style=\"text-align: right;\">\n",
       "      <th></th>\n",
       "      <th>STAID</th>\n",
       "      <th>SOUID</th>\n",
       "      <th>TG</th>\n",
       "      <th>Q_TG</th>\n",
       "    </tr>\n",
       "    <tr>\n",
       "      <th>DATE</th>\n",
       "      <th></th>\n",
       "      <th></th>\n",
       "      <th></th>\n",
       "      <th></th>\n",
       "    </tr>\n",
       "  </thead>\n",
       "  <tbody>\n",
       "    <tr>\n",
       "      <th>1929-12-31</th>\n",
       "      <td>248.0</td>\n",
       "      <td>101231.0</td>\n",
       "      <td>13.904110</td>\n",
       "      <td>0.008219</td>\n",
       "    </tr>\n",
       "    <tr>\n",
       "      <th>1930-12-31</th>\n",
       "      <td>248.0</td>\n",
       "      <td>101231.0</td>\n",
       "      <td>14.788493</td>\n",
       "      <td>0.000000</td>\n",
       "    </tr>\n",
       "    <tr>\n",
       "      <th>1931-12-31</th>\n",
       "      <td>248.0</td>\n",
       "      <td>101231.0</td>\n",
       "      <td>14.329041</td>\n",
       "      <td>0.000000</td>\n",
       "    </tr>\n",
       "    <tr>\n",
       "      <th>1932-12-31</th>\n",
       "      <td>248.0</td>\n",
       "      <td>101231.0</td>\n",
       "      <td>15.054372</td>\n",
       "      <td>0.000000</td>\n",
       "    </tr>\n",
       "    <tr>\n",
       "      <th>1933-12-31</th>\n",
       "      <td>248.0</td>\n",
       "      <td>101231.0</td>\n",
       "      <td>13.490685</td>\n",
       "      <td>0.000000</td>\n",
       "    </tr>\n",
       "  </tbody>\n",
       "</table>\n",
       "</div>"
      ],
      "text/plain": [
       "            STAID     SOUID         TG      Q_TG\n",
       "DATE                                            \n",
       "1929-12-31  248.0  101231.0  13.904110  0.008219\n",
       "1930-12-31  248.0  101231.0  14.788493  0.000000\n",
       "1931-12-31  248.0  101231.0  14.329041  0.000000\n",
       "1932-12-31  248.0  101231.0  15.054372  0.000000\n",
       "1933-12-31  248.0  101231.0  13.490685  0.000000"
      ]
     },
     "execution_count": 14,
     "metadata": {},
     "output_type": "execute_result"
    }
   ],
   "source": [
    "data_yearly = data.resample(\"A\").mean();\n",
    "data_yearly.head()"
   ]
  },
  {
   "cell_type": "markdown",
   "metadata": {},
   "source": [
    "+ Yukarıda fark ettiysek **;** özel bir kolon seçmediğimiz için, tüm kolonların ortalamasını aldı... Şimdi de sadece **TG** kolonunun ortalamasını gösterelim **:**"
   ]
  },
  {
   "cell_type": "code",
   "execution_count": 78,
   "metadata": {},
   "outputs": [
    {
     "data": {
      "text/plain": [
       "DATE\n",
       "2000-12-31    15.195902\n",
       "2001-12-31    15.867397\n",
       "2002-12-31    15.420822\n",
       "2003-12-31    14.674795\n",
       "2004-12-31     5.254839\n",
       "Freq: A-DEC, Name: TG, dtype: float64"
      ]
     },
     "execution_count": 78,
     "metadata": {},
     "output_type": "execute_result"
    }
   ],
   "source": [
    "data_yearly.TG = data.resample(\"A\").TG.mean();\n",
    "data_yearly.TG.tail()"
   ]
  },
  {
   "cell_type": "markdown",
   "metadata": {},
   "source": [
    "+ Şimdi de 5 yıllık ortalama sıcaklıkları bulalım **:**"
   ]
  },
  {
   "cell_type": "code",
   "execution_count": 15,
   "metadata": {},
   "outputs": [
    {
     "data": {
      "text/html": [
       "<div>\n",
       "<style scoped>\n",
       "    .dataframe tbody tr th:only-of-type {\n",
       "        vertical-align: middle;\n",
       "    }\n",
       "\n",
       "    .dataframe tbody tr th {\n",
       "        vertical-align: top;\n",
       "    }\n",
       "\n",
       "    .dataframe thead th {\n",
       "        text-align: right;\n",
       "    }\n",
       "</style>\n",
       "<table border=\"1\" class=\"dataframe\">\n",
       "  <thead>\n",
       "    <tr style=\"text-align: right;\">\n",
       "      <th></th>\n",
       "      <th>STAID</th>\n",
       "      <th>SOUID</th>\n",
       "      <th>TG</th>\n",
       "      <th>Q_TG</th>\n",
       "    </tr>\n",
       "    <tr>\n",
       "      <th>DATE</th>\n",
       "      <th></th>\n",
       "      <th></th>\n",
       "      <th></th>\n",
       "      <th></th>\n",
       "    </tr>\n",
       "  </thead>\n",
       "  <tbody>\n",
       "    <tr>\n",
       "      <th>1929-01-01</th>\n",
       "      <td>248.0</td>\n",
       "      <td>101231.0</td>\n",
       "      <td>14.313746</td>\n",
       "      <td>0.001643</td>\n",
       "    </tr>\n",
       "    <tr>\n",
       "      <th>1934-01-01</th>\n",
       "      <td>248.0</td>\n",
       "      <td>101231.0</td>\n",
       "      <td>14.676616</td>\n",
       "      <td>0.000000</td>\n",
       "    </tr>\n",
       "    <tr>\n",
       "      <th>1939-01-01</th>\n",
       "      <td>248.0</td>\n",
       "      <td>101231.0</td>\n",
       "      <td>13.719168</td>\n",
       "      <td>0.001095</td>\n",
       "    </tr>\n",
       "    <tr>\n",
       "      <th>1944-01-01</th>\n",
       "      <td>248.0</td>\n",
       "      <td>101231.0</td>\n",
       "      <td>14.276519</td>\n",
       "      <td>0.000000</td>\n",
       "    </tr>\n",
       "    <tr>\n",
       "      <th>1949-01-01</th>\n",
       "      <td>248.0</td>\n",
       "      <td>101231.0</td>\n",
       "      <td>14.188554</td>\n",
       "      <td>0.000548</td>\n",
       "    </tr>\n",
       "  </tbody>\n",
       "</table>\n",
       "</div>"
      ],
      "text/plain": [
       "            STAID     SOUID         TG      Q_TG\n",
       "DATE                                            \n",
       "1929-01-01  248.0  101231.0  14.313746  0.001643\n",
       "1934-01-01  248.0  101231.0  14.676616  0.000000\n",
       "1939-01-01  248.0  101231.0  13.719168  0.001095\n",
       "1944-01-01  248.0  101231.0  14.276519  0.000000\n",
       "1949-01-01  248.0  101231.0  14.188554  0.000548"
      ]
     },
     "execution_count": 15,
     "metadata": {},
     "output_type": "execute_result"
    }
   ],
   "source": [
    "data_five_year = data.resample(\"5AS\").mean();\n",
    "data_five_year.head()"
   ]
  },
  {
   "cell_type": "markdown",
   "metadata": {},
   "source": [
    "---\n",
    "---\n",
    "\n",
    "---------->"
   ]
  },
  {
   "cell_type": "markdown",
   "metadata": {},
   "source": [
    "+ Now **plot** these yearly averages **:**\n",
    "<br> Şimdi bu yıllık ortalamayı grafikte gösterelim **:**"
   ]
  },
  {
   "cell_type": "code",
   "execution_count": 16,
   "metadata": {},
   "outputs": [
    {
     "data": {
      "text/plain": [
       "<AxesSubplot:xlabel='DATE'>"
      ]
     },
     "execution_count": 16,
     "metadata": {},
     "output_type": "execute_result"
    }
   ],
   "source": [
    "data_yearly.TG.plot()"
   ]
  },
  {
   "cell_type": "markdown",
   "metadata": {},
   "source": [
    "Yukarıdaki OUT'da bir grafik oluşması gerekiyordu ama olmadı... Bu sorunu ileride çözeceğim..."
   ]
  },
  {
   "cell_type": "markdown",
   "metadata": {},
   "source": [
    "<----------\n",
    "\n",
    "---\n",
    "---"
   ]
  },
  {
   "cell_type": "markdown",
   "metadata": {},
   "source": [
    "Note that something looks weird around 2000, we have a sudden drop!\n",
    "<br> 2000 yılı civarında bir şeylerin tuhaf göründüğünü unutmayın, ani bir düşüş yaşıyoruz!"
   ]
  },
  {
   "cell_type": "code",
   "execution_count": 80,
   "metadata": {},
   "outputs": [
    {
     "data": {
      "text/html": [
       "<div>\n",
       "<style scoped>\n",
       "    .dataframe tbody tr th:only-of-type {\n",
       "        vertical-align: middle;\n",
       "    }\n",
       "\n",
       "    .dataframe tbody tr th {\n",
       "        vertical-align: top;\n",
       "    }\n",
       "\n",
       "    .dataframe thead th {\n",
       "        text-align: right;\n",
       "    }\n",
       "</style>\n",
       "<table border=\"1\" class=\"dataframe\">\n",
       "  <thead>\n",
       "    <tr style=\"text-align: right;\">\n",
       "      <th></th>\n",
       "      <th>STAID</th>\n",
       "      <th>SOUID</th>\n",
       "      <th>TG</th>\n",
       "      <th>Q_TG</th>\n",
       "    </tr>\n",
       "    <tr>\n",
       "      <th>DATE</th>\n",
       "      <th></th>\n",
       "      <th></th>\n",
       "      <th></th>\n",
       "      <th></th>\n",
       "    </tr>\n",
       "  </thead>\n",
       "  <tbody>\n",
       "    <tr>\n",
       "      <th>2002-12-31</th>\n",
       "      <td>248.0</td>\n",
       "      <td>101231.0</td>\n",
       "      <td>15.420822</td>\n",
       "      <td>0.0</td>\n",
       "    </tr>\n",
       "    <tr>\n",
       "      <th>2003-12-31</th>\n",
       "      <td>248.0</td>\n",
       "      <td>101231.0</td>\n",
       "      <td>14.674795</td>\n",
       "      <td>0.0</td>\n",
       "    </tr>\n",
       "    <tr>\n",
       "      <th>2004-12-31</th>\n",
       "      <td>248.0</td>\n",
       "      <td>101231.0</td>\n",
       "      <td>5.254839</td>\n",
       "      <td>0.0</td>\n",
       "    </tr>\n",
       "  </tbody>\n",
       "</table>\n",
       "</div>"
      ],
      "text/plain": [
       "            STAID     SOUID         TG  Q_TG\n",
       "DATE                                        \n",
       "2002-12-31  248.0  101231.0  15.420822   0.0\n",
       "2003-12-31  248.0  101231.0  14.674795   0.0\n",
       "2004-12-31  248.0  101231.0   5.254839   0.0"
      ]
     },
     "execution_count": 80,
     "metadata": {},
     "output_type": "execute_result"
    }
   ],
   "source": [
    "data_yearly.tail(3)"
   ]
  },
  {
   "cell_type": "markdown",
   "metadata": {},
   "source": [
    "**+--- NOTE --->** Biz yukarıda ortalamaları aldık ama hangi yılda kaç eksik veri var kaç sorunlu veri var bakmadık... Mesela bazı yıllarda 300 gün için veri varken bazı yıllarda 5 gün için veri olabilir... Bunlara dikkat etmeliyiz..."
   ]
  },
  {
   "cell_type": "markdown",
   "metadata": {},
   "source": [
    "+ At the year 2004, tempearature is very small compared to other years...\n",
    "<br> To investigate this, find how many **datapoints** we have in **\"data\"** dataframe **:**\n",
    "<br> You can use **size** function to create a series called **\"yearly_size\" :**\n",
    "+ 2004 yılında sıcaklık diğer yıllara göre çok düşük görünüyor...\n",
    "<br> Bunu araştırmak için **; \"data\"** veri çerçevesinde **,** kaç tane **veri noktasına** sahip olduğumuzu bulalım. Yani hangi yıllarda kaç tane verimiz var bunu bulalım **:**\n",
    "<br> **\"yearly_size\"** adlı bir SERİ (DİZİ) oluşturalım. **\".size( )\" , \"count( )\"** gibi fonksiyonları kullanabilirsiniz **:**"
   ]
  },
  {
   "cell_type": "code",
   "execution_count": 17,
   "metadata": {},
   "outputs": [
    {
     "data": {
      "text/plain": [
       "DATE\n",
       "2000-12-31    366\n",
       "2001-12-31    365\n",
       "2002-12-31    365\n",
       "2003-12-31    365\n",
       "2004-12-31     31\n",
       "Freq: A-DEC, dtype: int64"
      ]
     },
     "execution_count": 17,
     "metadata": {},
     "output_type": "execute_result"
    }
   ],
   "source": [
    "yearly_size = data.resample(\"A\").size() ;\n",
    "yearly_size.tail()"
   ]
  },
  {
   "cell_type": "markdown",
   "metadata": {},
   "source": [
    "Yukarıda, \"**.resample( )**\" fonksiyonu ile yıllık olarak GRUPLADIK... \"**.size( )**\" fonkisiyonu ile de HER GRUP içerisindeki ELEMAN SAYISINI öğrendik **!**"
   ]
  },
  {
   "cell_type": "markdown",
   "metadata": {},
   "source": [
    "We got the answer **!!**\n",
    "<br> the year 2004 has only 31 datapoints, probably data from january that is why the aveage temperature is so low **!**\n",
    "<br> Cevabı aldık **!!**\n",
    "<br> 2004 yılı sadece 31 veri noktasına sahip. Muhtemelen de bu veriler bir kış ayına ait. Hatta sanırım Ocak ayına ait. Bu yüzden ortalama sıcaklık çok düşük görünüyor **!**"
   ]
  },
  {
   "cell_type": "markdown",
   "metadata": {},
   "source": [
    "+ Let's check for which years the number of days is not 365\n",
    "<br> Type **yearly_size!=365**. What sort of output do we have **?**\n",
    "+ Hangi yıllar için gün sayısının 365 olmadığını kontrol edelim **:**\n",
    "<br> **yearly_size!=365** yazalım. Ne tür bir çıktımız var **?**\n",
    "+ Yani şimdi de 365 veriye eşit olmayan yıllar hangi yıllar onu öğrenmek istiyoruz **:**"
   ]
  },
  {
   "cell_type": "code",
   "execution_count": 18,
   "metadata": {},
   "outputs": [
    {
     "data": {
      "text/plain": [
       "DATE\n",
       "1929-12-31    False\n",
       "1930-12-31    False\n",
       "1931-12-31    False\n",
       "1932-12-31     True\n",
       "1933-12-31    False\n",
       "              ...  \n",
       "2000-12-31     True\n",
       "2001-12-31    False\n",
       "2002-12-31    False\n",
       "2003-12-31    False\n",
       "2004-12-31     True\n",
       "Freq: A-DEC, Length: 76, dtype: bool"
      ]
     },
     "execution_count": 18,
     "metadata": {},
     "output_type": "execute_result"
    }
   ],
   "source": [
    "yearly_size != 365"
   ]
  },
  {
   "cell_type": "markdown",
   "metadata": {},
   "source": [
    "+ We got a **boolean series**, if we insert this series into **yearly_size** series, we will get rows that are **True:**\n",
    "<br> Yukarıda bir **boolean** serimiz var, bu seriyi **\"yearly_size\"** serisine eklersek **True** olan satırlar elde ederiz.\n",
    "<br> Yani bu yukarıdaki sorguyu **index** olarak kullanırsak bize direkt sonucu verir **:**"
   ]
  },
  {
   "cell_type": "code",
   "execution_count": 19,
   "metadata": {},
   "outputs": [
    {
     "data": {
      "text/plain": [
       "DATE\n",
       "1932-12-31    366\n",
       "1936-12-31    366\n",
       "1940-12-31    366\n",
       "1944-12-31    366\n",
       "1948-12-31    366\n",
       "1952-12-31    366\n",
       "1956-12-31    366\n",
       "1960-12-31    366\n",
       "1964-12-31    366\n",
       "1968-12-31    366\n",
       "1972-12-31    366\n",
       "1976-12-31    366\n",
       "1980-12-31    366\n",
       "1984-12-31    366\n",
       "1988-12-31    366\n",
       "1992-12-31    366\n",
       "1996-12-31    366\n",
       "2000-12-31    366\n",
       "2004-12-31     31\n",
       "dtype: int64"
      ]
     },
     "execution_count": 19,
     "metadata": {},
     "output_type": "execute_result"
    }
   ],
   "source": [
    "yearly_size[yearly_size != 365]"
   ]
  },
  {
   "cell_type": "markdown",
   "metadata": {},
   "source": [
    "All the rows except of the last one has 366.\n",
    "<br> So this years are leap years.\n",
    "<br> Yukarıda, sonuncusu hariç tüm satırlarda 366 var.\n",
    "<br> Yani bu yıllar artık yıllar. Çünkü her 4 yılda bir artık yıl olur..."
   ]
  },
  {
   "cell_type": "markdown",
   "metadata": {},
   "source": [
    "+ Accesing data for certain years **;**\n",
    "<br> Let's get the yearly_size information only for the years between 1950 and 1960 **:**\n",
    "<br> Try first yearly_size[1950:1960], see what happens **:**\n",
    "+ Belirli yıllara ait verilere erişim için **;**\n",
    "<br> Sadece 1950 ile 1960 arasındaki yıllar için **yıllık_size** bilgisini alalım **:**\n",
    "<br> İlk önce **yearly_size[1950:1960]** komutunu deneyin, ne olduğunu görün **:**\n",
    "+ Yani elimizde bir adet zaman serisi var. Ve bu seri içerisinde sadece 1950 ve 1960 arasındaki verileri bulmak istiyoruz **:** "
   ]
  },
  {
   "cell_type": "code",
   "execution_count": 20,
   "metadata": {},
   "outputs": [
    {
     "data": {
      "text/plain": [
       "Series([], Freq: A-DEC, dtype: int64)"
      ]
     },
     "execution_count": 20,
     "metadata": {},
     "output_type": "execute_result"
    }
   ],
   "source": [
    "yearly_size[1950:1960]"
   ]
  },
  {
   "cell_type": "markdown",
   "metadata": {},
   "source": [
    "Yukarıdaki gibi yaptığımızda, gördüğümüz gibi çalışmıyor... Çünkü burada bir zaman yok, yani bir **datetime** index'i yok. Biz burada tamsayı aratıyoruz ve olmuyor...\n",
    "<br> Yapmamız gereken, eğer içinde arama yapmaya çalıştığımız seri bir **datetime** serisi ise ona göre biz de o şekilde aratmalıyız... **:**"
   ]
  },
  {
   "cell_type": "markdown",
   "metadata": {},
   "source": [
    "+ We didn't get anything because our index is a **datetime index** and we should enquiry with the same data structure\n",
    "<br> We write the date either in **string** format **:**\n",
    "<br> yearly_size[\"1/1/1950\":\"1/1/1960\"]\n",
    "+ Peki nasıl aratabiliriz **?** Normal bir şekilde tam tarihi yazar gibi yazarsak aratabiliriz **:**\n",
    "<br> Tarihi, **string** formatında yazıyoruz:\n",
    "<br> yearly_size[\"1/1/1950\":\"1/1/1960\"]"
   ]
  },
  {
   "cell_type": "code",
   "execution_count": 21,
   "metadata": {},
   "outputs": [
    {
     "data": {
      "text/plain": [
       "DATE\n",
       "1950-12-31    365\n",
       "1951-12-31    365\n",
       "1952-12-31    366\n",
       "1953-12-31    365\n",
       "1954-12-31    365\n",
       "1955-12-31    365\n",
       "1956-12-31    366\n",
       "1957-12-31    365\n",
       "1958-12-31    365\n",
       "1959-12-31    365\n",
       "Freq: A-DEC, dtype: int64"
      ]
     },
     "execution_count": 21,
     "metadata": {},
     "output_type": "execute_result"
    }
   ],
   "source": [
    "yearly_size[\"1/1/1950\" : \"1/1/1960\"]"
   ]
  },
  {
   "cell_type": "markdown",
   "metadata": {},
   "source": [
    "+ **Or**\n",
    "<br> We can create a **datetime** object for this **:**\n",
    "<br> First, **import datetime** object and create **timestamps** for 1950 and 1960 **:**\n",
    "+ **Veya**\n",
    "<br> Bunun için bir **datetime** nesnesi oluşturabiliriz **:**\n",
    "<br> İlk olarak, **datetime** nesnesini **içe aktarın** ve 1950 ve 1960 için **zaman damgaları** oluşturun **:**\n",
    "+ Yani biz kendimiz manuel olarak **datetime** oluşturabiliriz **:**\n",
    "<br> Ve aslında en düzgün aratma şekli de budur **:**"
   ]
  },
  {
   "cell_type": "code",
   "execution_count": 22,
   "metadata": {},
   "outputs": [],
   "source": [
    "from datetime import datetime"
   ]
  },
  {
   "cell_type": "code",
   "execution_count": 23,
   "metadata": {},
   "outputs": [],
   "source": [
    "t1 = datetime(1950,1,1)"
   ]
  },
  {
   "cell_type": "code",
   "execution_count": 24,
   "metadata": {},
   "outputs": [
    {
     "data": {
      "text/plain": [
       "datetime.datetime(1950, 1, 1, 0, 0)"
      ]
     },
     "execution_count": 24,
     "metadata": {},
     "output_type": "execute_result"
    }
   ],
   "source": [
    "t1"
   ]
  },
  {
   "cell_type": "markdown",
   "metadata": {},
   "source": [
    "**+--- NOTE --->** Yukarıda gördüğümüz gibi, parantez içerisine EN AZ; Yıl, Ay ve Gün'ü yazmak zorundayız **!**\n",
    "<br> Saat, dakika, saniye, salise, ... ve daha nicelerini de yazabiliriz ama ilk 3'ü zorunlu **!**"
   ]
  },
  {
   "cell_type": "code",
   "execution_count": 25,
   "metadata": {},
   "outputs": [
    {
     "data": {
      "text/plain": [
       "datetime.datetime"
      ]
     },
     "execution_count": 25,
     "metadata": {},
     "output_type": "execute_result"
    }
   ],
   "source": [
    "type(t1)"
   ]
  },
  {
   "cell_type": "markdown",
   "metadata": {},
   "source": [
    "+ We can put these **datetime** objects as indices for **time series** **:**\n",
    "<br> Bu **datetime** nesnelerini **zaman serileri** için indeksler olarak koyabiliriz **:**\n",
    "+ Yani elimizde bir **zaman serisi** varsa, ve burada bir **slice (dilimleme, parçalama)** yapmak istiyosak, şu şekilde yapabiliriz **:**"
   ]
  },
  {
   "cell_type": "code",
   "execution_count": 26,
   "metadata": {},
   "outputs": [
    {
     "data": {
      "text/plain": [
       "DATE\n",
       "1950-12-31    365\n",
       "1951-12-31    365\n",
       "1952-12-31    366\n",
       "1953-12-31    365\n",
       "1954-12-31    365\n",
       "1955-12-31    365\n",
       "1956-12-31    366\n",
       "1957-12-31    365\n",
       "1958-12-31    365\n",
       "1959-12-31    365\n",
       "Freq: A-DEC, dtype: int64"
      ]
     },
     "execution_count": 26,
     "metadata": {},
     "output_type": "execute_result"
    }
   ],
   "source": [
    "yearly_size[datetime(1950,1,1): datetime(1960,1,1)]"
   ]
  },
  {
   "cell_type": "markdown",
   "metadata": {},
   "source": [
    "En garanti yöntem de bu yukarıda uyguladığımız yöntemdir..."
   ]
  },
  {
   "cell_type": "markdown",
   "metadata": {},
   "source": [
    "### Plot average temperatures in March over the years\n",
    "### (Tüm yılların Mart aylarındaki ortalama sıcaklıklarını grafikte gösterin)"
   ]
  },
  {
   "cell_type": "markdown",
   "metadata": {},
   "source": [
    "+ First, get montly averages **:**\n",
    "<br> Create a **time series** for monthy averages, name this series **\"montly\" :**\n",
    "+ İlk olarak, aylık ortalamaları alın **:**\n",
    "<br> Aylık ortalamalar için bir **zaman serisi** oluşturun, bu seriyi **\"montly\"** olarak adlandırın **:**"
   ]
  },
  {
   "cell_type": "code",
   "execution_count": 27,
   "metadata": {},
   "outputs": [
    {
     "data": {
      "text/html": [
       "<div>\n",
       "<style scoped>\n",
       "    .dataframe tbody tr th:only-of-type {\n",
       "        vertical-align: middle;\n",
       "    }\n",
       "\n",
       "    .dataframe tbody tr th {\n",
       "        vertical-align: top;\n",
       "    }\n",
       "\n",
       "    .dataframe thead th {\n",
       "        text-align: right;\n",
       "    }\n",
       "</style>\n",
       "<table border=\"1\" class=\"dataframe\">\n",
       "  <thead>\n",
       "    <tr style=\"text-align: right;\">\n",
       "      <th></th>\n",
       "      <th>STAID</th>\n",
       "      <th>SOUID</th>\n",
       "      <th>TG</th>\n",
       "      <th>Q_TG</th>\n",
       "    </tr>\n",
       "    <tr>\n",
       "      <th>DATE</th>\n",
       "      <th></th>\n",
       "      <th></th>\n",
       "      <th></th>\n",
       "      <th></th>\n",
       "    </tr>\n",
       "  </thead>\n",
       "  <tbody>\n",
       "    <tr>\n",
       "      <th>1929-01-31</th>\n",
       "      <td>248.0</td>\n",
       "      <td>101231.0</td>\n",
       "      <td>5.454839</td>\n",
       "      <td>0.000000</td>\n",
       "    </tr>\n",
       "    <tr>\n",
       "      <th>1929-02-28</th>\n",
       "      <td>248.0</td>\n",
       "      <td>101231.0</td>\n",
       "      <td>1.957143</td>\n",
       "      <td>0.071429</td>\n",
       "    </tr>\n",
       "    <tr>\n",
       "      <th>1929-03-31</th>\n",
       "      <td>248.0</td>\n",
       "      <td>101231.0</td>\n",
       "      <td>3.445161</td>\n",
       "      <td>0.032258</td>\n",
       "    </tr>\n",
       "    <tr>\n",
       "      <th>1929-04-30</th>\n",
       "      <td>248.0</td>\n",
       "      <td>101231.0</td>\n",
       "      <td>9.976667</td>\n",
       "      <td>0.000000</td>\n",
       "    </tr>\n",
       "    <tr>\n",
       "      <th>1929-05-31</th>\n",
       "      <td>248.0</td>\n",
       "      <td>101231.0</td>\n",
       "      <td>18.883871</td>\n",
       "      <td>0.000000</td>\n",
       "    </tr>\n",
       "  </tbody>\n",
       "</table>\n",
       "</div>"
      ],
      "text/plain": [
       "            STAID     SOUID         TG      Q_TG\n",
       "DATE                                            \n",
       "1929-01-31  248.0  101231.0   5.454839  0.000000\n",
       "1929-02-28  248.0  101231.0   1.957143  0.071429\n",
       "1929-03-31  248.0  101231.0   3.445161  0.032258\n",
       "1929-04-30  248.0  101231.0   9.976667  0.000000\n",
       "1929-05-31  248.0  101231.0  18.883871  0.000000"
      ]
     },
     "execution_count": 27,
     "metadata": {},
     "output_type": "execute_result"
    }
   ],
   "source": [
    "monthly = data.resample('M').mean() ;\n",
    "monthly.head()"
   ]
  },
  {
   "cell_type": "markdown",
   "metadata": {},
   "source": [
    "+ We got the averages for each month.\n",
    "<br> But we are interested in only March months **:**\n",
    "+ Her ay için ortalamaları aldık.\n",
    "<br> Ama biz sadece Mart aylarıyla ilgileniyoruz **:**"
   ]
  },
  {
   "cell_type": "markdown",
   "metadata": {},
   "source": [
    "+ Since our index is a **datetime** object, one good feature of this object is that we can get such information like month,day,hour etc.\n",
    "<br> Try **:** monthly.index.month\n",
    "+ İndeksimiz bir **datetime** nesnesi olduğundan, bu nesnenin iyi bir özelliği de; ay, gün, saat gibi bilgileri alabilmemizdir.\n",
    "<br> Deneyin **:** aylık.index.ay\n",
    "+ Şimdi, **'monthly'** dediğimiz şey aynı zamanda bir **DataFrame**'dir. Bunun **index**'ine rahatlıkla erişebiliriz. Yani **.index( )** fonksiyonunu çalıştırdığımız zaman bize **index** nesnelerini döner... Burada da **index**'lerimiz **datetime** olduğu için, **'monthly'** isimli zaman serisi atamamızın, **attributes (özellikler)**'ine rahatlıkla erişebiliriz... **:** "
   ]
  },
  {
   "cell_type": "code",
   "execution_count": 28,
   "metadata": {},
   "outputs": [
    {
     "data": {
      "text/plain": [
       "Int64Index([ 1,  2,  3,  4,  5,  6,  7,  8,  9, 10,\n",
       "            ...\n",
       "             4,  5,  6,  7,  8,  9, 10, 11, 12,  1],\n",
       "           dtype='int64', name='DATE', length=901)"
      ]
     },
     "execution_count": 28,
     "metadata": {},
     "output_type": "execute_result"
    }
   ],
   "source": [
    "monthly.index.month"
   ]
  },
  {
   "cell_type": "markdown",
   "metadata": {},
   "source": [
    "+ Veya rakam olarak değil de direkt ayların isimlerini görmek istiyorsak da **'.month_name()' metodunu** kullanabiliriz **:**\n",
    "<br> Ama dediğimiz gibi **'.month_name( )'** bir **attribute** değil bir **metotdur !**\n",
    "<br> Çünkü gördüğümüz gibi sonunda **parantez ( )** vardır..."
   ]
  },
  {
   "cell_type": "code",
   "execution_count": 29,
   "metadata": {},
   "outputs": [
    {
     "data": {
      "text/plain": [
       "Index(['January', 'February', 'March', 'April', 'May', 'June', 'July',\n",
       "       'August', 'September', 'October',\n",
       "       ...\n",
       "       'April', 'May', 'June', 'July', 'August', 'September', 'October',\n",
       "       'November', 'December', 'January'],\n",
       "      dtype='object', name='DATE', length=901)"
      ]
     },
     "execution_count": 29,
     "metadata": {},
     "output_type": "execute_result"
    }
   ],
   "source": [
    "monthly.index.month_name()"
   ]
  },
  {
   "cell_type": "markdown",
   "metadata": {},
   "source": [
    "+ Here 1 is for jan, 2 is for feb and so on.\n",
    "<br> If we select rows whose **monthly.index.month** is equal to 3, then we select March months **:**\n",
    "<br> We create a new series for Marches **:**\n",
    "+ Burada, 1: Ocak, 2: Şubat ... vb.'dir.\n",
    "<br> **monthly.index.month** '3' olan satırları seçersek, Mart aylarını seçeriz **:**\n",
    "<br> Mart ayları için yeni bir seri oluşturuyoruz **:**\n",
    "<br> Ve bunu, **boolean** olarak değil de **index** olarak kullanalım / görelim **:**"
   ]
  },
  {
   "cell_type": "code",
   "execution_count": 30,
   "metadata": {},
   "outputs": [
    {
     "data": {
      "text/html": [
       "<div>\n",
       "<style scoped>\n",
       "    .dataframe tbody tr th:only-of-type {\n",
       "        vertical-align: middle;\n",
       "    }\n",
       "\n",
       "    .dataframe tbody tr th {\n",
       "        vertical-align: top;\n",
       "    }\n",
       "\n",
       "    .dataframe thead th {\n",
       "        text-align: right;\n",
       "    }\n",
       "</style>\n",
       "<table border=\"1\" class=\"dataframe\">\n",
       "  <thead>\n",
       "    <tr style=\"text-align: right;\">\n",
       "      <th></th>\n",
       "      <th>STAID</th>\n",
       "      <th>SOUID</th>\n",
       "      <th>TG</th>\n",
       "      <th>Q_TG</th>\n",
       "    </tr>\n",
       "    <tr>\n",
       "      <th>DATE</th>\n",
       "      <th></th>\n",
       "      <th></th>\n",
       "      <th></th>\n",
       "      <th></th>\n",
       "    </tr>\n",
       "  </thead>\n",
       "  <tbody>\n",
       "    <tr>\n",
       "      <th>1929-03-31</th>\n",
       "      <td>248.0</td>\n",
       "      <td>101231.0</td>\n",
       "      <td>3.445161</td>\n",
       "      <td>0.032258</td>\n",
       "    </tr>\n",
       "    <tr>\n",
       "      <th>1930-03-31</th>\n",
       "      <td>248.0</td>\n",
       "      <td>101231.0</td>\n",
       "      <td>9.393548</td>\n",
       "      <td>0.000000</td>\n",
       "    </tr>\n",
       "    <tr>\n",
       "      <th>1931-03-31</th>\n",
       "      <td>248.0</td>\n",
       "      <td>101231.0</td>\n",
       "      <td>7.825806</td>\n",
       "      <td>0.000000</td>\n",
       "    </tr>\n",
       "    <tr>\n",
       "      <th>1932-03-31</th>\n",
       "      <td>248.0</td>\n",
       "      <td>101231.0</td>\n",
       "      <td>6.216129</td>\n",
       "      <td>0.000000</td>\n",
       "    </tr>\n",
       "    <tr>\n",
       "      <th>1933-03-31</th>\n",
       "      <td>248.0</td>\n",
       "      <td>101231.0</td>\n",
       "      <td>6.719355</td>\n",
       "      <td>0.000000</td>\n",
       "    </tr>\n",
       "  </tbody>\n",
       "</table>\n",
       "</div>"
      ],
      "text/plain": [
       "            STAID     SOUID        TG      Q_TG\n",
       "DATE                                           \n",
       "1929-03-31  248.0  101231.0  3.445161  0.032258\n",
       "1930-03-31  248.0  101231.0  9.393548  0.000000\n",
       "1931-03-31  248.0  101231.0  7.825806  0.000000\n",
       "1932-03-31  248.0  101231.0  6.216129  0.000000\n",
       "1933-03-31  248.0  101231.0  6.719355  0.000000"
      ]
     },
     "execution_count": 30,
     "metadata": {},
     "output_type": "execute_result"
    }
   ],
   "source": [
    "monthy_march = monthly[monthly.index.month == 3] ;\n",
    "monthy_march.head()"
   ]
  },
  {
   "cell_type": "markdown",
   "metadata": {},
   "source": [
    "+ Let's plot this average temperatures **:**\n",
    "+ Bu ortalama sıcaklıkları grafikte gösterelim (çizelim) **:**"
   ]
  },
  {
   "cell_type": "code",
   "execution_count": 31,
   "metadata": {},
   "outputs": [
    {
     "data": {
      "text/plain": [
       "<AxesSubplot:xlabel='DATE'>"
      ]
     },
     "execution_count": 31,
     "metadata": {},
     "output_type": "execute_result"
    }
   ],
   "source": [
    "monthy_march.TG.plot()"
   ]
  },
  {
   "cell_type": "markdown",
   "metadata": {},
   "source": [
    "Yukarıda gördüğümüz gibi, yine grafik olarak bir OUT göremedik... Bu sorunu çözeceğiz..."
   ]
  }
 ],
 "metadata": {
  "kernelspec": {
   "display_name": "Python 3",
   "language": "python",
   "name": "python3"
  },
  "language_info": {
   "codemirror_mode": {
    "name": "ipython",
    "version": 3
   },
   "file_extension": ".py",
   "mimetype": "text/x-python",
   "name": "python",
   "nbconvert_exporter": "python",
   "pygments_lexer": "ipython3",
   "version": "3.8.11"
  }
 },
 "nbformat": 4,
 "nbformat_minor": 4
}
